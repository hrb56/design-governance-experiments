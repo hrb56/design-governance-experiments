{
 "cells": [
  {
   "cell_type": "markdown",
   "metadata": {},
   "source": [
    "# Headline Analysis Example (assignment one)\n",
    "[J. Nathan Matias](https://natematias.com), [COMM 4940](https://natematias.com/courses/comm4940/) (Jan 2020)\n",
    "\n",
    "This code includes an analysis example for the [Week 2 Headline Experiment](https://github.com/natematias/design-governance-experiments/tree/master/assignments/1-headline-experiment).\n"
   ]
  },
  {
   "cell_type": "code",
   "execution_count": 138,
   "metadata": {},
   "outputs": [],
   "source": [
    "## LOAD LIBRARIES\n",
    "library(ggplot2) ## FOR PLOTS\n",
    "library(gmodels) ## FOR CrossTable\n",
    "\n",
    "## SET GGPLOT TO USE WIDE BUT NOT TOO TALL PLOTS\n",
    "options(repr.plot.width=6, repr.plot.height=4)"
   ]
  },
  {
   "cell_type": "code",
   "execution_count": 139,
   "metadata": {},
   "outputs": [],
   "source": [
    "# load participants file\n",
    "participants     <- read.csv(\"headline-experiment-impressions.csv\")\n",
    "# convert headline to a factor, to simplify analysis later on\n",
    "participants$hed <- factor(participants$hed)\n",
    "# relevel the factors so that the 4th headline is the \"reference factor\" for the regression model\n",
    "participants$hed <- relevel(participants$hed, ref=\"4\", data=participants)\n",
    "\n",
    "\n",
    "headlines        <- read.csv(\"headline-experiment-heds.csv\")"
   ]
  },
  {
   "cell_type": "markdown",
   "metadata": {},
   "source": [
    "### Show Headlines"
   ]
  },
  {
   "cell_type": "code",
   "execution_count": 140,
   "metadata": {},
   "outputs": [
    {
     "data": {
      "text/html": [
       "<table>\n",
       "<thead><tr><th scope=col>id</th><th scope=col>hed</th></tr></thead>\n",
       "<tbody>\n",
       "\t<tr><td>1                                                                                 </td><td>She's Not Just Destined For Greatness, She's Destined To Do Great Things For Women</td></tr>\n",
       "\t<tr><td>2                                                                                 </td><td>This Young Woman Just Took Silicon Valley By Storm And She's Not Stopping There   </td></tr>\n",
       "\t<tr><td>3                                                                                 </td><td>Feminism 101: This Girl Is Going Places And She's Taking Other Girls With Her     </td></tr>\n",
       "\t<tr><td>4                                                                                 </td><td>Remember When Math Was Too Hard For The Ladies? Not So Much.                      </td></tr>\n",
       "</tbody>\n",
       "</table>\n"
      ],
      "text/latex": [
       "\\begin{tabular}{r|ll}\n",
       " id & hed\\\\\n",
       "\\hline\n",
       "\t 1                                                                                  & She's Not Just Destined For Greatness, She's Destined To Do Great Things For Women\\\\\n",
       "\t 2                                                                                  & This Young Woman Just Took Silicon Valley By Storm And She's Not Stopping There   \\\\\n",
       "\t 3                                                                                  & Feminism 101: This Girl Is Going Places And She's Taking Other Girls With Her     \\\\\n",
       "\t 4                                                                                  & Remember When Math Was Too Hard For The Ladies? Not So Much.                      \\\\\n",
       "\\end{tabular}\n"
      ],
      "text/markdown": [
       "\n",
       "| id | hed |\n",
       "|---|---|\n",
       "| 1                                                                                  | She's Not Just Destined For Greatness, She's Destined To Do Great Things For Women |\n",
       "| 2                                                                                  | This Young Woman Just Took Silicon Valley By Storm And She's Not Stopping There    |\n",
       "| 3                                                                                  | Feminism 101: This Girl Is Going Places And She's Taking Other Girls With Her      |\n",
       "| 4                                                                                  | Remember When Math Was Too Hard For The Ladies? Not So Much.                       |\n",
       "\n"
      ],
      "text/plain": [
       "  id\n",
       "1 1 \n",
       "2 2 \n",
       "3 3 \n",
       "4 4 \n",
       "  hed                                                                               \n",
       "1 She's Not Just Destined For Greatness, She's Destined To Do Great Things For Women\n",
       "2 This Young Woman Just Took Silicon Valley By Storm And She's Not Stopping There   \n",
       "3 Feminism 101: This Girl Is Going Places And She's Taking Other Girls With Her     \n",
       "4 Remember When Math Was Too Hard For The Ladies? Not So Much.                      "
      ]
     },
     "metadata": {},
     "output_type": "display_data"
    }
   ],
   "source": [
    "headlines"
   ]
  },
  {
   "cell_type": "markdown",
   "metadata": {},
   "source": [
    "### Show a CrossTable of the Data"
   ]
  },
  {
   "cell_type": "code",
   "execution_count": 141,
   "metadata": {},
   "outputs": [
    {
     "name": "stdout",
     "output_type": "stream",
     "text": [
      "\n",
      " \n",
      "   Cell Contents\n",
      "|-------------------------|\n",
      "|                       N |\n",
      "|           N / Col Total |\n",
      "|-------------------------|\n",
      "\n",
      " \n",
      "Total Observations in Table:  14950 \n",
      "\n",
      " \n",
      "                 | participants$click \n",
      "participants$hed |         0 |         1 | Row Total | \n",
      "-----------------|-----------|-----------|-----------|\n",
      "               4 |      3720 |        17 |      3737 | \n",
      "                 |     0.251 |     0.143 |           | \n",
      "-----------------|-----------|-----------|-----------|\n",
      "               1 |      3716 |        40 |      3756 | \n",
      "                 |     0.251 |     0.336 |           | \n",
      "-----------------|-----------|-----------|-----------|\n",
      "               2 |      3670 |        24 |      3694 | \n",
      "                 |     0.247 |     0.202 |           | \n",
      "-----------------|-----------|-----------|-----------|\n",
      "               3 |      3725 |        38 |      3763 | \n",
      "                 |     0.251 |     0.319 |           | \n",
      "-----------------|-----------|-----------|-----------|\n",
      "    Column Total |     14831 |       119 |     14950 | \n",
      "                 |     0.992 |     0.008 |           | \n",
      "-----------------|-----------|-----------|-----------|\n",
      "\n",
      " \n"
     ]
    }
   ],
   "source": [
    "CrossTable(participants$hed, participants$click, \n",
    "           prop.r =FALSE, prop.c=TRUE, prop.t=FALSE,prop.chisq=FALSE)"
   ]
  },
  {
   "cell_type": "markdown",
   "metadata": {},
   "source": [
    "### Estimate Results With Confidence Intervals"
   ]
  },
  {
   "cell_type": "code",
   "execution_count": 142,
   "metadata": {},
   "outputs": [
    {
     "data": {
      "text/plain": [
       "\n",
       "Call:\n",
       "lm(formula = click ~ hed, data = participants)\n",
       "\n",
       "Residuals:\n",
       "     Min       1Q   Median       3Q      Max \n",
       "-0.01065 -0.01010 -0.00650 -0.00455  0.99545 \n",
       "\n",
       "Coefficients:\n",
       "            Estimate Std. Error t value Pr(>|t|)   \n",
       "(Intercept) 0.004549   0.001453   3.130  0.00175 **\n",
       "hed1        0.006101   0.002053   2.972  0.00296 **\n",
       "hed2        0.001948   0.002061   0.945  0.34465   \n",
       "hed3        0.005549   0.002052   2.705  0.00684 **\n",
       "---\n",
       "Signif. codes:  0 ‘***’ 0.001 ‘**’ 0.01 ‘*’ 0.05 ‘.’ 0.1 ‘ ’ 1\n",
       "\n",
       "Residual standard error: 0.08884 on 14946 degrees of freedom\n",
       "Multiple R-squared:  0.0008112,\tAdjusted R-squared:  0.0006106 \n",
       "F-statistic: 4.045 on 3 and 14946 DF,  p-value: 0.006954\n"
      ]
     },
     "metadata": {},
     "output_type": "display_data"
    }
   ],
   "source": [
    "summary(result.lm <- lm(click ~ hed, data=participants))"
   ]
  },
  {
   "cell_type": "code",
   "execution_count": 143,
   "metadata": {},
   "outputs": [],
   "source": [
    "estimate.df <- data.frame(hed=factor(c(1,2,3,4)))\n",
    "\n",
    "preds.df <- data.frame(predict(result.lm, estimate.df, se.fit=TRUE, interval=\"confidence\")$fit)\n",
    "\n",
    "estimate.df$estimate <- preds.df$fit\n",
    "estimate.df$estimate.lwr <- preds.df$lwr\n",
    "estimate.df$estimate.upr <- preds.df$upr"
   ]
  },
  {
   "cell_type": "markdown",
   "metadata": {},
   "source": [
    "### Plot Results using ggplot"
   ]
  },
  {
   "cell_type": "code",
   "execution_count": 144,
   "metadata": {},
   "outputs": [
    {
     "name": "stdout",
     "output_type": "stream",
     "text": [
      "[1] \"max estimate: 0.013490945437187\"\n"
     ]
    }
   ],
   "source": [
    "print(paste(\"max estimate:\", max(estimate.df$estimate.upr)))"
   ]
  },
  {
   "cell_type": "code",
   "execution_count": 145,
   "metadata": {},
   "outputs": [
    {
     "data": {},
     "metadata": {},
     "output_type": "display_data"
    },
    {
     "data": {
      "image/png": "[encoded data removed]",
      "text/plain": [
       "plot without title"
      ]
     },
     "metadata": {},
     "output_type": "display_data"
    }
   ],
   "source": [
    "ggplot(estimate.df, aes(estimate.df$hed, estimate)) +\n",
    "    geom_point() +\n",
    "    geom_errorbar(ymin=estimate.df$estimate.lwr, ymax=estimate.df$estimate.upr, width=0.15) +\n",
    "    theme_bw() +\n",
    "    scale_y_continuous(limits=c(0,0.03), breaks=(seq(0,0.04, 0.0025)),labels = scales::percent) +\n",
    "    coord_flip() + ## This line makes it a horizontal plot, which is why X and Y are now reversed\n",
    "    xlab(\"\") +\n",
    "    ylab(\"ASSIGNMENT TODO: Label AXIS\")"
   ]
  }
 ],
 "metadata": {
  "kernelspec": {
   "display_name": "R",
   "language": "R",
   "name": "ir"
  },
  "language_info": {
   "codemirror_mode": "r",
   "file_extension": ".r",
   "mimetype": "text/x-r-source",
   "name": "R",
   "pygments_lexer": "r",
   "version": "3.5.1"
  },
  "varInspector": {
   "cols": {
    "lenName": 16,
    "lenType": 16,
    "lenVar": 40
   },
   "kernels_config": {
    "python": {
     "delete_cmd_postfix": "",
     "delete_cmd_prefix": "del ",
     "library": "var_list.py",
     "varRefreshCmd": "print(var_dic_list())"
    },
    "r": {
     "delete_cmd_postfix": ") ",
     "delete_cmd_prefix": "rm(",
     "library": "var_list.r",
     "varRefreshCmd": "cat(var_dic_list()) "
    }
   },
   "types_to_exclude": [
    "module",
    "function",
    "builtin_function_or_method",
    "instance",
    "_Feature"
   ],
   "window_display": true
  }
 },
 "nbformat": 4,
 "nbformat_minor": 2
}
