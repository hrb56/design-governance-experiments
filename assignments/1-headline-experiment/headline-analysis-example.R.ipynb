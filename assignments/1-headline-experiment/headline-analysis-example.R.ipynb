{
 "cells": [
  {
   "cell_type": "markdown",
   "metadata": {},
   "source": [
    "# Headline Analysis Example (assignment one)\n",
    "[J. Nathan Matias](https://natematias.com), [COMM 4940](https://natematias.com/courses/comm4940/) (Jan 2020)\n",
    "\n",
    "This code includes an analysis example for the [Week 2 Headline Experiment](https://github.com/natematias/design-governance-experiments/tree/master/assignments/1-headline-experiment).\n",
    "\n",
    "### DATASET DESCRIPTION\n",
    "Each row in *headline-experiment-impressions.csv* represents a single \"impression\" - a browser that viewed a given headline:\n",
    "* **hed**: which headline number was used (the actual headline text is in *headline-experiment-heds.csv*)\n",
    "* **click**: whether that participant clicked on the article to read further"
   ]
  },
  {
   "cell_type": "code",
   "execution_count": null,
   "metadata": {},
   "outputs": [],
   "source": [
    "## LOAD LIBRARIES\n",
    "library(ggplot2) ## FOR PLOTS\n",
    "library(gmodels) ## FOR CrossTable\n",
    "\n",
    "## SET GGPLOT TO USE WIDE BUT NOT TOO TALL PLOTS\n",
    "options(repr.plot.width=6, repr.plot.height=4)"
   ]
  },
  {
   "cell_type": "code",
   "execution_count": null,
   "metadata": {},
   "outputs": [],
   "source": [
    "# load participants file\n",
    "participants     <- read.csv(\"headline-experiment-impressions.csv\")\n",
    "# convert headline to a factor, to simplify analysis later on\n",
    "participants$hed <- factor(participants$hed)\n",
    "# relevel the factors so that the 4th headline is the \"reference factor\" for the regression model\n",
    "participants$hed <- relevel(participants$hed, ref=\"4\", data=participants)\n",
    "\n",
    "\n",
    "headlines        <- read.csv(\"headline-experiment-heds.csv\")"
   ]
  },
  {
   "cell_type": "markdown",
   "metadata": {},
   "source": [
    "### Show Headlines"
   ]
  },
  {
   "cell_type": "code",
   "execution_count": null,
   "metadata": {},
   "outputs": [],
   "source": [
    "headlines"
   ]
  },
  {
   "cell_type": "markdown",
   "metadata": {},
   "source": [
    "### Show a CrossTable of the Data"
   ]
  },
  {
   "cell_type": "code",
   "execution_count": null,
   "metadata": {},
   "outputs": [],
   "source": [
    "CrossTable(participants$hed, participants$click, \n",
    "           prop.r =FALSE, prop.c=TRUE, prop.t=FALSE,prop.chisq=FALSE)"
   ]
  },
  {
   "cell_type": "markdown",
   "metadata": {},
   "source": [
    "### Estimate Results With Confidence Intervals"
   ]
  },
  {
   "cell_type": "code",
   "execution_count": null,
   "metadata": {},
   "outputs": [],
   "source": [
    "summary(result.lm <- lm(click ~ hed, data=participants))"
   ]
  },
  {
   "cell_type": "code",
   "execution_count": null,
   "metadata": {},
   "outputs": [],
   "source": [
    "# generate a dataframe with a row for each headline\n",
    "# so we can generate and store the estimates for each one\n",
    "estimate.df <- data.frame(hed=factor(c(1,2,3,4)))\n",
    "\n",
    "# use the predict() method with the result object\n",
    "# to create estimates and confidence intervals for each \n",
    "preds.df <- data.frame(predict(result.lm, estimate.df, se.fit=TRUE, interval=\"confidence\")$fit)\n",
    "\n",
    "estimate.df$estimate <- preds.df$fit\n",
    "estimate.df$estimate.lwr <- preds.df$lwr\n",
    "estimate.df$estimate.upr <- preds.df$upr"
   ]
  },
  {
   "cell_type": "markdown",
   "metadata": {},
   "source": [
    "### Plot Results using ggplot"
   ]
  },
  {
   "cell_type": "code",
   "execution_count": null,
   "metadata": {},
   "outputs": [],
   "source": [
    "print(paste(\"max estimate:\", max(estimate.df$estimate.upr)))"
   ]
  },
  {
   "cell_type": "code",
   "execution_count": null,
   "metadata": {},
   "outputs": [],
   "source": [
    "ggplot(estimate.df, aes(estimate.df$hed, estimate)) +\n",
    "    geom_point() +\n",
    "    geom_errorbar(ymin=estimate.df$estimate.lwr, ymax=estimate.df$estimate.upr, width=0.15) +\n",
    "    theme_bw() +\n",
    "    scale_y_continuous(limits=c(0,0.03), breaks=(seq(0,0.04, 0.0025)),labels = scales::percent) +\n",
    "    coord_flip() + ## This line converts the vertical plot to a horizontal plot\n",
    "    xlab(\"\") +\n",
    "    ylab(\"ASSIGNMENT TODO: Label AXIS\")"
   ]
  },
  {
   "cell_type": "code",
   "execution_count": null,
   "metadata": {},
   "outputs": [],
   "source": []
  }
 ],
 "metadata": {
  "kernelspec": {
   "display_name": "R",
   "language": "R",
   "name": "ir"
  },
  "language_info": {
   "codemirror_mode": "r",
   "file_extension": ".r",
   "mimetype": "text/x-r-source",
   "name": "R",
   "pygments_lexer": "r",
   "version": "3.5.1"
  },
  "varInspector": {
   "cols": {
    "lenName": 16,
    "lenType": 16,
    "lenVar": 40
   },
   "kernels_config": {
    "python": {
     "delete_cmd_postfix": "",
     "delete_cmd_prefix": "del ",
     "library": "var_list.py",
     "varRefreshCmd": "print(var_dic_list())"
    },
    "r": {
     "delete_cmd_postfix": ") ",
     "delete_cmd_prefix": "rm(",
     "library": "var_list.r",
     "varRefreshCmd": "cat(var_dic_list()) "
    }
   },
   "types_to_exclude": [
    "module",
    "function",
    "builtin_function_or_method",
    "instance",
    "_Feature"
   ],
   "window_display": true
  }
 },
 "nbformat": 4,
 "nbformat_minor": 2
}
